{
 "cells": [
  {
   "cell_type": "code",
   "execution_count": 1,
   "id": "1b709045",
   "metadata": {},
   "outputs": [],
   "source": [
    "import torch"
   ]
  },
  {
   "cell_type": "code",
   "execution_count": 86,
   "id": "1c64ed0f",
   "metadata": {},
   "outputs": [],
   "source": [
    "model = lambda x: torch.randn(x.shape[0],1)"
   ]
  },
  {
   "cell_type": "code",
   "execution_count": 81,
   "id": "943ac350",
   "metadata": {},
   "outputs": [
    {
     "data": {
      "text/plain": [
       "torch.Size([1000, 3])"
      ]
     },
     "execution_count": 81,
     "metadata": {},
     "output_type": "execute_result"
    }
   ],
   "source": [
    "input.shape"
   ]
  },
  {
   "cell_type": "code",
   "execution_count": 21,
   "id": "7bb75ce2",
   "metadata": {},
   "outputs": [],
   "source": [
    "input = torch.randn(3,100)"
   ]
  },
  {
   "cell_type": "code",
   "execution_count": 122,
   "id": "c2fc91b9",
   "metadata": {},
   "outputs": [],
   "source": [
    "def take_snapshot(model, file_path, device, n_points):\n",
    "    from pyevtk.hl import imageToVTK        \n",
    "    x,y,z = [torch.linspace(lb[i], ub[i], n_points[i]) for i in range(len(lb))]\n",
    "    x,y,z = torch.meshgrid(x,y,z)\n",
    "    input = torch.cat([x.unsqueeze(-1),y.unsqueeze(-1),z.unsqueeze(-1)],-1).view(-1, 3).to(device)\n",
    "    output = torch.cat([model(input[k*64:(k+1)*64]) for k in range((input.shape[0]//64+1))], 0).view(-1)\n",
    "    grid = [x.numpy(), y.numpy(), z.numpy()]\n",
    "    imageToVTK(file_path, grid, pointData = {\"model output\": output.view(n_points).numpy()}) "
   ]
  },
  {
   "cell_type": "code",
   "execution_count": null,
   "id": "2ffe6708",
   "metadata": {},
   "outputs": [],
   "source": [
    "o"
   ]
  },
  {
   "cell_type": "code",
   "execution_count": 124,
   "id": "091ab373",
   "metadata": {},
   "outputs": [],
   "source": [
    "take_snapshot(model, 'my_model', 'cpu', [10,10,10])"
   ]
  },
  {
   "cell_type": "code",
   "execution_count": 24,
   "id": "741a3c6f",
   "metadata": {},
   "outputs": [],
   "source": [
    "lb = torch.Tensor([0,0,0])\n",
    "ub = torch.Tensor([1,1,1])\n",
    "n_points = [10,10,10]"
   ]
  },
  {
   "cell_type": "code",
   "execution_count": 94,
   "id": "73db84a9",
   "metadata": {},
   "outputs": [
    {
     "data": {
      "text/plain": [
       "torch.Size([1000, 3])"
      ]
     },
     "execution_count": 94,
     "metadata": {},
     "output_type": "execute_result"
    }
   ],
   "source": [
    "model(input[1:(15+64)])"
   ]
  },
  {
   "cell_type": "code",
   "execution_count": 95,
   "id": "83d630a9",
   "metadata": {},
   "outputs": [
    {
     "data": {
      "text/plain": [
       "torch.Size([1000, 1])"
      ]
     },
     "execution_count": 95,
     "metadata": {},
     "output_type": "execute_result"
    }
   ],
   "source": [
    "torch.cat([model(input[k*64:(k+1)*64]) for k in range((input.shape[0]//64+1))], 0).shape"
   ]
  },
  {
   "cell_type": "code",
   "execution_count": 85,
   "id": "06a59d4d",
   "metadata": {},
   "outputs": [
    {
     "data": {
      "text/plain": [
       "torch.Size([1, 64])"
      ]
     },
     "execution_count": 85,
     "metadata": {},
     "output_type": "execute_result"
    }
   ],
   "source": [
    "model(input[k:k+64]).shape"
   ]
  },
  {
   "cell_type": "code",
   "execution_count": 68,
   "id": "fb179f68",
   "metadata": {},
   "outputs": [],
   "source": [
    "x,y,z = torch.meshgrid([torch.linspace(lb[i], ub[i], n_points[i]) for i in range(len(lb))])\n",
    "x,y,z = x.unsqueeze(-1), y.unsqueeze(-1), z.unsqueeze(-1)\n",
    "input = torch.cat([x,y,z],-1).view(-1, 3)\n",
    "output = model(input)"
   ]
  },
  {
   "cell_type": "code",
   "execution_count": 118,
   "id": "3505b285",
   "metadata": {},
   "outputs": [
    {
     "data": {
      "text/plain": [
       "torch.Size([10, 10, 10])"
      ]
     },
     "execution_count": 118,
     "metadata": {},
     "output_type": "execute_result"
    }
   ],
   "source": [
    "output.view(n_points).shape"
   ]
  },
  {
   "cell_type": "code",
   "execution_count": 10,
   "id": "a11d6b1c",
   "metadata": {},
   "outputs": [],
   "source": [
    "x_ = torch.linspace(0., 1., 10)\n",
    "y_ = torch.linspace(0., 1., 10)\n",
    "z_ = torch.linspace(0., 1., 10)"
   ]
  }
 ],
 "metadata": {
  "kernelspec": {
   "display_name": "Python 3 (ipykernel)",
   "language": "python",
   "name": "python3"
  },
  "language_info": {
   "codemirror_mode": {
    "name": "ipython",
    "version": 3
   },
   "file_extension": ".py",
   "mimetype": "text/x-python",
   "name": "python",
   "nbconvert_exporter": "python",
   "pygments_lexer": "ipython3",
   "version": "3.9.5"
  }
 },
 "nbformat": 4,
 "nbformat_minor": 5
}
